{
 "cells": [
  {
   "cell_type": "markdown",
   "id": "bd5b452c-bf61-4d3e-b37d-1b6cf2568dac",
   "metadata": {},
   "source": [
    "# BETO baselines"
   ]
  },
  {
   "cell_type": "code",
   "execution_count": null,
   "id": "b70e1cef-b7a2-4ebf-a36b-1cc3f040de5c",
   "metadata": {},
   "outputs": [],
   "source": [
    "%env CUDA_DEVICE_ORDER=PCI_BUS_ID\n",
    "%env CUDA_VISIBLE_DEVICES=1\n",
    "%env NCCL_P2P_DISABLE=1\n",
    "%env NCCL_IB_DISABLE=1\n",
    "\n",
    "import random\n",
    "\n",
    "import numpy as np\n",
    "import pandas as pd\n",
    "import torch\n",
    "from datasets import Dataset\n",
    "from transformers import AutoModelForSequenceClassification, AutoTokenizer, Trainer, TrainingArguments"
   ]
  },
  {
   "cell_type": "markdown",
   "id": "e3e75401-f727-43ac-9007-803580221119",
   "metadata": {},
   "source": [
    "We create a validation partition, which we also use as an example for the evaluation"
   ]
  },
  {
   "cell_type": "code",
   "execution_count": null,
   "id": "44011c78-215d-4a40-8e97-d7dfe04bdc34",
   "metadata": {},
   "outputs": [],
   "source": [
    "test = pd.read_csv(\"data/test.csv\")\n",
    "train = pd.read_csv(\"data/train.csv\")\n",
    "\n",
    "df = train\n",
    "train = df.sample(frac=0.8, random_state=42)\n",
    "validation = df.drop(train.index)\n",
    "\n",
    "train.to_csv(\"data/train_val.csv\", index=False)\n",
    "validation.to_csv(\"data/validation.csv\", index=False)"
   ]
  },
  {
   "cell_type": "code",
   "execution_count": null,
   "id": "a7bb2614-3af1-411a-abe2-2cde710c20db",
   "metadata": {},
   "outputs": [],
   "source": [
    "model_id = \"dccuchile/bert-base-spanish-wwm-cased\"\n",
    "tokenizer = AutoTokenizer.from_pretrained(model_id)"
   ]
  },
  {
   "cell_type": "code",
   "execution_count": null,
   "id": "1f6fa1e0-25d3-4cfc-b1ec-c60d100dde99",
   "metadata": {
    "scrolled": true
   },
   "outputs": [],
   "source": [
    "def tokenize(examples):\n",
    "    tokenized_inputs = tokenizer(examples[\"text\"], padding=\"max_length\", truncation=True, max_length=128)\n",
    "    return tokenized_inputs\n",
    "\n",
    "\n",
    "def preprocessing_data(data):\n",
    "    dt = Dataset.from_pandas(data)\n",
    "    tokenized_dt = dt.map(tokenize, remove_columns=[\"text\"], batched=True)\n",
    "    return tokenized_dt.with_format(\"torch\")\n",
    "\n",
    "\n",
    "def set_deterministic(seed=42):\n",
    "    random.seed(seed)\n",
    "    np.random.seed(seed)\n",
    "    torch.manual_seed(seed)\n",
    "    torch.cuda.manual_seed(seed)\n",
    "    torch.cuda.manual_seed_all(seed)\n",
    "\n",
    "    torch.backends.cudnn.deterministic = True\n",
    "    torch.backends.cudnn.benchmark = False\n",
    "    torch.backends.cudnn.enabled = False\n",
    "\n",
    "\n",
    "training_args = TrainingArguments(\n",
    "    output_dir=\"baselines\",\n",
    "    learning_rate=2e-5,\n",
    "    per_device_train_batch_size=32,\n",
    "    per_device_eval_batch_size=32,\n",
    "    num_train_epochs=5,\n",
    "    evaluation_strategy=\"epoch\",\n",
    "    save_strategy=\"epoch\",\n",
    "    load_best_model_at_end=True,\n",
    ")"
   ]
  },
  {
   "cell_type": "markdown",
   "id": "542c6c47-8c91-4eab-9d7d-cdc821f8e085",
   "metadata": {},
   "source": [
    "## Hard labels"
   ]
  },
  {
   "cell_type": "markdown",
   "id": "fda69e9a-ffa0-4e00-82f0-f27a60d25319",
   "metadata": {},
   "source": [
    "### Task 1"
   ]
  },
  {
   "cell_type": "code",
   "execution_count": null,
   "id": "a43e00f5-bb51-4189-b71b-1157fb98a18f",
   "metadata": {},
   "outputs": [],
   "source": [
    "tok_train = preprocessing_data(train[[\"text\", \"stereotype\"]].rename(columns={\"stereotype\": \"labels\"}))\n",
    "tok_val = preprocessing_data(validation[[\"text\", \"stereotype\"]].rename(columns={\"stereotype\": \"labels\"}))\n",
    "tok_test = preprocessing_data(test[[\"text\"]])"
   ]
  },
  {
   "cell_type": "code",
   "execution_count": null,
   "id": "20f263f2-a8c6-4043-a925-b3d4044897e5",
   "metadata": {},
   "outputs": [],
   "source": [
    "set_deterministic()\n",
    "model = AutoModelForSequenceClassification.from_pretrained(model_id, num_labels=2)\n",
    "trainer = Trainer(model=model, args=training_args, train_dataset=tok_train, eval_dataset=tok_val)\n",
    "trainer.train()\n",
    "\n",
    "predictions = trainer.predict(tok_test)\n",
    "results = test[[\"id\"]].copy()\n",
    "results[\"stereotype\"] = np.argmax(predictions[0], axis=1)\n",
    "results.to_csv(\"baselines/beto_t1_hard.csv\", index=False)"
   ]
  },
  {
   "cell_type": "markdown",
   "id": "a1905ead-6509-433c-92f8-50a49facf8a2",
   "metadata": {},
   "source": [
    "Save the result to the test DataFrame to filter it in task 2"
   ]
  },
  {
   "cell_type": "code",
   "execution_count": null,
   "id": "2aaef3e9-8257-439e-9bc1-3b7d27666da3",
   "metadata": {},
   "outputs": [],
   "source": [
    "test[\"stereotype_pred\"] = np.argmax(predictions[0], axis=1)"
   ]
  },
  {
   "cell_type": "markdown",
   "id": "f40ef180-a978-48e4-84ef-f76bbf6fb6ac",
   "metadata": {},
   "source": [
    "### Task 2\n",
    "\n",
    "This baseline only predicts the impliciteness for the cases of task 1 that have stereotype == 1"
   ]
  },
  {
   "cell_type": "code",
   "execution_count": null,
   "id": "3a0927b8-5a3c-48a2-98fe-ddde9f09baf9",
   "metadata": {},
   "outputs": [],
   "source": [
    "tok_train = preprocessing_data(\n",
    "    train[train[\"stereotype\"] == 1][[\"text\", \"implicit\"]].rename(columns={\"implicit\": \"labels\"})\n",
    ")\n",
    "tok_val = preprocessing_data(\n",
    "    validation[validation[\"stereotype\"] == 1][[\"text\", \"implicit\"]].rename(columns={\"implicit\": \"labels\"})\n",
    ")\n",
    "tok_test = preprocessing_data(test[test[\"stereotype_pred\"] == 1][[\"text\"]])"
   ]
  },
  {
   "cell_type": "code",
   "execution_count": null,
   "id": "73643bc1-92f5-4b7b-9750-272773a0ffc9",
   "metadata": {},
   "outputs": [],
   "source": [
    "set_deterministic()\n",
    "model = AutoModelForSequenceClassification.from_pretrained(model_id, num_labels=2)\n",
    "trainer = Trainer(model=model, args=training_args, train_dataset=tok_train, eval_dataset=tok_val)\n",
    "trainer.train()\n",
    "\n",
    "predictions = trainer.predict(tok_test)\n",
    "results2 = results.copy()\n",
    "results2[\"implicit\"] = 0\n",
    "results2.loc[test[\"stereotype_pred\"] == 1, \"implicit\"] = np.argmax(predictions[0], axis=1)\n",
    "results2.to_csv(\"baselines/beto_t2_hard.csv\", index=False)"
   ]
  },
  {
   "cell_type": "markdown",
   "id": "893d58ce-ec50-481c-a315-2eaca67eeb01",
   "metadata": {},
   "source": [
    "## Soft labels\n",
    "\n",
    "We use the softmax normalization of the 3 annotators to train the models, namely `stereotype_soft` and `implicit_soft` as provided in the training set.\n",
    "\n",
    "We clip the predicted values to the interval [0,1]"
   ]
  },
  {
   "cell_type": "markdown",
   "id": "70db7bab-195d-4938-8758-0e7a3f14d4d8",
   "metadata": {},
   "source": [
    "### Task 1"
   ]
  },
  {
   "cell_type": "code",
   "execution_count": null,
   "id": "de8879b0-6ca3-4054-bbe4-ed833ec75c00",
   "metadata": {},
   "outputs": [],
   "source": [
    "tok_train = preprocessing_data(train[[\"text\", \"stereotype_soft\"]].rename(columns={\"stereotype_soft\": \"labels\"}))\n",
    "tok_val = preprocessing_data(validation[[\"text\", \"stereotype_soft\"]].rename(columns={\"stereotype_soft\": \"labels\"}))\n",
    "tok_test = preprocessing_data(test[[\"text\"]])"
   ]
  },
  {
   "cell_type": "code",
   "execution_count": null,
   "id": "0f646b14-7614-4794-b6a3-d3f710572cf9",
   "metadata": {},
   "outputs": [],
   "source": [
    "set_deterministic()\n",
    "model = AutoModelForSequenceClassification.from_pretrained(model_id, num_labels=1)\n",
    "trainer = Trainer(model=model, args=training_args, train_dataset=tok_train, eval_dataset=tok_val)\n",
    "trainer.train()\n",
    "\n",
    "predictions = trainer.predict(tok_test)\n",
    "results = test[[\"id\"]].copy()\n",
    "results[\"stereotype\"] = np.clip(predictions[0], 0, 1)\n",
    "results.to_csv(\"baselines/beto_t1_soft.csv\", index=False)"
   ]
  },
  {
   "cell_type": "code",
   "execution_count": null,
   "id": "25b7676a-2951-44e3-9df1-b9b566b88735",
   "metadata": {},
   "outputs": [],
   "source": [
    "test[\"stereotype_pred\"] = predictions[0]"
   ]
  },
  {
   "cell_type": "markdown",
   "id": "d453e73c-f791-44fd-9c1b-9c2bf044802b",
   "metadata": {},
   "source": [
    "### Task 2\n",
    "\n",
    "In this simple baseline, we only predict the impliciteness for the cases with stereotype_soft > 0.5"
   ]
  },
  {
   "cell_type": "code",
   "execution_count": null,
   "id": "11476e53-36f7-49bb-b911-880d813de012",
   "metadata": {},
   "outputs": [],
   "source": [
    "tok_train = preprocessing_data(\n",
    "    train[train[\"stereotype_soft\"] > 0.5][[\"text\", \"implicit_soft\"]].rename(columns={\"implicit_soft\": \"labels\"})\n",
    ")\n",
    "tok_val = preprocessing_data(\n",
    "    validation[validation[\"stereotype_soft\"] > 0.5][[\"text\", \"implicit_soft\"]].rename(\n",
    "        columns={\"implicit_soft\": \"labels\"}\n",
    "    )\n",
    ")\n",
    "tok_test = preprocessing_data(test[test[\"stereotype_pred\"] > 0.5][[\"text\"]])"
   ]
  },
  {
   "cell_type": "code",
   "execution_count": null,
   "id": "206e1a77-5781-427e-8c64-189009064e68",
   "metadata": {},
   "outputs": [],
   "source": [
    "set_deterministic()\n",
    "model = AutoModelForSequenceClassification.from_pretrained(model_id, num_labels=1)\n",
    "trainer = Trainer(model=model, args=training_args, train_dataset=tok_train, eval_dataset=tok_val)\n",
    "trainer.train()\n",
    "\n",
    "predictions = trainer.predict(tok_test)\n",
    "results2 = results.copy()\n",
    "results2[\"implicit\"] = 0.0\n",
    "results2.loc[test[\"stereotype_pred\"] > 0.5, \"implicit\"] = np.clip(predictions[0], 0, 1)\n",
    "results2.to_csv(\"baselines/beto_t2_soft.csv\", index=False)"
   ]
  }
 ],
 "metadata": {
  "kernelspec": {
   "display_name": "Python 3 (ipykernel)",
   "language": "python",
   "name": "python3"
  },
  "language_info": {
   "codemirror_mode": {
    "name": "ipython",
    "version": 3
   },
   "file_extension": ".py",
   "mimetype": "text/x-python",
   "name": "python",
   "nbconvert_exporter": "python",
   "pygments_lexer": "ipython3",
   "version": "3.10.13"
  }
 },
 "nbformat": 4,
 "nbformat_minor": 5
}
